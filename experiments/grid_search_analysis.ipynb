{
 "cells": [
  {
   "cell_type": "code",
   "execution_count": 1,
   "outputs": [],
   "source": [
    "import pandas as pd\n",
    "import matplotlib.pyplot as plt\n",
    "import seaborn as sns\n"
   ],
   "metadata": {
    "collapsed": false,
    "pycharm": {
     "name": "#%%\n"
    }
   }
  },
  {
   "cell_type": "code",
   "execution_count": 2,
   "outputs": [
    {
     "data": {
      "text/plain": "<bound method NDFrame.head of                NAME  TRANSFER-FACTOR    N   T   STATUS            CONFIG  \\\n0      aggregation0         0.150242    0   0  SUCCESS  site_conf_2_site   \n1      aggregation0         0.150242    0   1  SUCCESS  site_conf_2_site   \n2      aggregation0         0.150242    0  10  SUCCESS  site_conf_2_site   \n3      aggregation0         0.150242    0  60  SUCCESS  site_conf_2_site   \n4      aggregation0         0.150242    1   0  SUCCESS  site_conf_2_site   \n...             ...              ...  ...  ..      ...               ...   \n11835  Sipht_30.xml         0.009004   10  60  SUCCESS  site_conf_4_site   \n11836  Sipht_30.xml         0.009004  100   0  SUCCESS  site_conf_4_site   \n11837  Sipht_30.xml         0.009004  100   1  SUCCESS  site_conf_4_site   \n11838  Sipht_30.xml         0.009004  100  10  SUCCESS  site_conf_4_site   \n11839  Sipht_30.xml         0.009004  100  60  SUCCESS  site_conf_4_site   \n\n       DISTRIBUTION  \n0                 0  \n1                 0  \n2                 0  \n3                 0  \n4                 0  \n...             ...  \n11835             4  \n11836             4  \n11837             4  \n11838             4  \n11839             4  \n\n[11840 rows x 7 columns]>"
     },
     "execution_count": 2,
     "metadata": {},
     "output_type": "execute_result"
    }
   ],
   "source": [
    "original_data_frame = pd.read_csv('grid_search_final_results.csv')\n",
    "original_data_frame.head"
   ],
   "metadata": {
    "collapsed": false,
    "pycharm": {
     "name": "#%%\n"
    }
   }
  },
  {
   "cell_type": "code",
   "execution_count": 4,
   "outputs": [
    {
     "data": {
      "text/plain": "Index(['NAME', 'TRANSFER-FACTOR', 'N', 'T', 'STATUS', 'CONFIG',\n       'DISTRIBUTION'],\n      dtype='object')"
     },
     "execution_count": 4,
     "metadata": {},
     "output_type": "execute_result"
    }
   ],
   "source": [
    "original_data_frame.columns\n"
   ],
   "metadata": {
    "collapsed": false,
    "pycharm": {
     "name": "#%%\n"
    }
   }
  },
  {
   "cell_type": "code",
   "execution_count": 5,
   "outputs": [
    {
     "data": {
      "text/plain": "(11840, 7)"
     },
     "execution_count": 5,
     "metadata": {},
     "output_type": "execute_result"
    }
   ],
   "source": [
    "original_data_frame.shape\n"
   ],
   "metadata": {
    "collapsed": false,
    "pycharm": {
     "name": "#%%\n"
    }
   }
  },
  {
   "cell_type": "code",
   "execution_count": 20,
   "outputs": [
    {
     "data": {
      "text/plain": "                NAME    N   T      mean       std\n0     CyberShake_100    0   0  0.399219  0.150077\n1     CyberShake_100    0   1  0.399219  0.150077\n2     CyberShake_100    0  10  0.399219  0.150077\n3     CyberShake_100    0  60  0.399219  0.150077\n4     CyberShake_100    1   0  0.399219  0.150077\n..               ...  ...  ..       ...       ...\n587  redistribution4   10  60  0.358094  0.213049\n588  redistribution4  100   0  0.358094  0.213049\n589  redistribution4  100   1  0.358094  0.213049\n590  redistribution4  100  10  0.358094  0.213049\n591  redistribution4  100  60  0.358094  0.213049\n\n[592 rows x 5 columns]",
      "text/html": "<div>\n<style scoped>\n    .dataframe tbody tr th:only-of-type {\n        vertical-align: middle;\n    }\n\n    .dataframe tbody tr th {\n        vertical-align: top;\n    }\n\n    .dataframe thead th {\n        text-align: right;\n    }\n</style>\n<table border=\"1\" class=\"dataframe\">\n  <thead>\n    <tr style=\"text-align: right;\">\n      <th></th>\n      <th>NAME</th>\n      <th>N</th>\n      <th>T</th>\n      <th>mean</th>\n      <th>std</th>\n    </tr>\n  </thead>\n  <tbody>\n    <tr>\n      <th>0</th>\n      <td>CyberShake_100</td>\n      <td>0</td>\n      <td>0</td>\n      <td>0.399219</td>\n      <td>0.150077</td>\n    </tr>\n    <tr>\n      <th>1</th>\n      <td>CyberShake_100</td>\n      <td>0</td>\n      <td>1</td>\n      <td>0.399219</td>\n      <td>0.150077</td>\n    </tr>\n    <tr>\n      <th>2</th>\n      <td>CyberShake_100</td>\n      <td>0</td>\n      <td>10</td>\n      <td>0.399219</td>\n      <td>0.150077</td>\n    </tr>\n    <tr>\n      <th>3</th>\n      <td>CyberShake_100</td>\n      <td>0</td>\n      <td>60</td>\n      <td>0.399219</td>\n      <td>0.150077</td>\n    </tr>\n    <tr>\n      <th>4</th>\n      <td>CyberShake_100</td>\n      <td>1</td>\n      <td>0</td>\n      <td>0.399219</td>\n      <td>0.150077</td>\n    </tr>\n    <tr>\n      <th>...</th>\n      <td>...</td>\n      <td>...</td>\n      <td>...</td>\n      <td>...</td>\n      <td>...</td>\n    </tr>\n    <tr>\n      <th>587</th>\n      <td>redistribution4</td>\n      <td>10</td>\n      <td>60</td>\n      <td>0.358094</td>\n      <td>0.213049</td>\n    </tr>\n    <tr>\n      <th>588</th>\n      <td>redistribution4</td>\n      <td>100</td>\n      <td>0</td>\n      <td>0.358094</td>\n      <td>0.213049</td>\n    </tr>\n    <tr>\n      <th>589</th>\n      <td>redistribution4</td>\n      <td>100</td>\n      <td>1</td>\n      <td>0.358094</td>\n      <td>0.213049</td>\n    </tr>\n    <tr>\n      <th>590</th>\n      <td>redistribution4</td>\n      <td>100</td>\n      <td>10</td>\n      <td>0.358094</td>\n      <td>0.213049</td>\n    </tr>\n    <tr>\n      <th>591</th>\n      <td>redistribution4</td>\n      <td>100</td>\n      <td>60</td>\n      <td>0.358094</td>\n      <td>0.213049</td>\n    </tr>\n  </tbody>\n</table>\n<p>592 rows × 5 columns</p>\n</div>"
     },
     "execution_count": 20,
     "metadata": {},
     "output_type": "execute_result"
    }
   ],
   "source": [
    "original_data_frame.groupby(['NAME','N','T'])['TRANSFER-FACTOR'].agg(['mean', 'std']).reset_index()\n",
    "# std is basically derivation over distribution and sites"
   ],
   "metadata": {
    "collapsed": false,
    "pycharm": {
     "name": "#%%\n"
    }
   }
  },
  {
   "cell_type": "markdown",
   "source": [
    "almost equal mean\n",
    "we aggregate over distribution and site setup -> these give high stdev"
   ],
   "metadata": {
    "collapsed": false,
    "pycharm": {
     "name": "#%% md\n"
    }
   }
  },
  {
   "cell_type": "code",
   "execution_count": 17,
   "outputs": [
    {
     "data": {
      "text/plain": "Empty DataFrame\nColumns: [NAME, TRANSFER-FACTOR, N, T, STATUS, CONFIG, DISTRIBUTION]\nIndex: []",
      "text/html": "<div>\n<style scoped>\n    .dataframe tbody tr th:only-of-type {\n        vertical-align: middle;\n    }\n\n    .dataframe tbody tr th {\n        vertical-align: top;\n    }\n\n    .dataframe thead th {\n        text-align: right;\n    }\n</style>\n<table border=\"1\" class=\"dataframe\">\n  <thead>\n    <tr style=\"text-align: right;\">\n      <th></th>\n      <th>NAME</th>\n      <th>TRANSFER-FACTOR</th>\n      <th>N</th>\n      <th>T</th>\n      <th>STATUS</th>\n      <th>CONFIG</th>\n      <th>DISTRIBUTION</th>\n    </tr>\n  </thead>\n  <tbody>\n  </tbody>\n</table>\n</div>"
     },
     "execution_count": 17,
     "metadata": {},
     "output_type": "execute_result"
    }
   ],
   "source": [
    "original_data_frame[(original_data_frame['NAME'] == 'floodplain') & (original_data_frame['TRANSFER-FACTOR'] != 0.0)]\n"
   ],
   "metadata": {
    "collapsed": false,
    "pycharm": {
     "name": "#%%\n"
    }
   }
  },
  {
   "cell_type": "code",
   "execution_count": null,
   "outputs": [],
   "source": [],
   "metadata": {
    "collapsed": false,
    "pycharm": {
     "name": "#%%\n"
    }
   }
  }
 ],
 "metadata": {
  "kernelspec": {
   "display_name": "Python 3",
   "language": "python",
   "name": "python3"
  },
  "language_info": {
   "codemirror_mode": {
    "name": "ipython",
    "version": 2
   },
   "file_extension": ".py",
   "mimetype": "text/x-python",
   "name": "python",
   "nbconvert_exporter": "python",
   "pygments_lexer": "ipython2",
   "version": "2.7.6"
  }
 },
 "nbformat": 4,
 "nbformat_minor": 0
}