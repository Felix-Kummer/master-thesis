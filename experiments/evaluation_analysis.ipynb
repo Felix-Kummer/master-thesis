{
 "cells": [
  {
   "cell_type": "code",
   "execution_count": 29,
   "outputs": [],
   "source": [
    "import pandas as pd\n",
    "import matplotlib.pyplot as plt\n",
    "from scipy import stats\n"
   ],
   "metadata": {
    "collapsed": false,
    "pycharm": {
     "name": "#%%\n"
    }
   }
  },
  {
   "cell_type": "code",
   "execution_count": 99,
   "outputs": [
    {
     "data": {
      "text/plain": "               NAME  TRANSFER-FACTOR-SIZE  TRANSFER-FACTOR-TIME     MAKESPAN  \\\n0      aggregation0              0.480848              0.914250  173460.3850   \n1      aggregation0              0.459166              0.810174  150233.2975   \n2      aggregation0              0.430077              0.747849  142726.9100   \n3      aggregation0              0.509558              0.941832  150120.6025   \n4      aggregation0              0.550096              0.950936  171382.4175   \n...             ...                   ...                   ...          ...   \n22935  Sipht_30.xml              0.072199              0.001339    9813.0600   \n22936  Sipht_30.xml              0.070849              0.001337    9810.6500   \n22937  Sipht_30.xml              0.071773              0.001402    9810.6500   \n22938  Sipht_30.xml              0.070295              0.001308    9817.8050   \n22939  Sipht_30.xml              0.068528              0.001208    9810.5800   \n\n       N  T   STATUS            CONFIG  DISTRIBUTION  RUN_COUNT  RND_COUNT  \n0      0  0  SUCCESS  site_conf_2_site             0          1         -1  \n1      0  0  SUCCESS  site_conf_2_site             0          1          0  \n2      0  0  SUCCESS  site_conf_2_site             0          1          1  \n3      0  0  SUCCESS  site_conf_2_site             0          1          2  \n4      0  0  SUCCESS  site_conf_2_site             0          1          3  \n...   .. ..      ...               ...           ...        ...        ...  \n22935  0  0  SUCCESS  site_conf_4_site             4        740         25  \n22936  0  0  SUCCESS  site_conf_4_site             4        740         26  \n22937  0  0  SUCCESS  site_conf_4_site             4        740         27  \n22938  0  0  SUCCESS  site_conf_4_site             4        740         28  \n22939  0  0  SUCCESS  site_conf_4_site             4        740         29  \n\n[22940 rows x 11 columns]",
      "text/html": "<div>\n<style scoped>\n    .dataframe tbody tr th:only-of-type {\n        vertical-align: middle;\n    }\n\n    .dataframe tbody tr th {\n        vertical-align: top;\n    }\n\n    .dataframe thead th {\n        text-align: right;\n    }\n</style>\n<table border=\"1\" class=\"dataframe\">\n  <thead>\n    <tr style=\"text-align: right;\">\n      <th></th>\n      <th>NAME</th>\n      <th>TRANSFER-FACTOR-SIZE</th>\n      <th>TRANSFER-FACTOR-TIME</th>\n      <th>MAKESPAN</th>\n      <th>N</th>\n      <th>T</th>\n      <th>STATUS</th>\n      <th>CONFIG</th>\n      <th>DISTRIBUTION</th>\n      <th>RUN_COUNT</th>\n      <th>RND_COUNT</th>\n    </tr>\n  </thead>\n  <tbody>\n    <tr>\n      <th>0</th>\n      <td>aggregation0</td>\n      <td>0.480848</td>\n      <td>0.914250</td>\n      <td>173460.3850</td>\n      <td>0</td>\n      <td>0</td>\n      <td>SUCCESS</td>\n      <td>site_conf_2_site</td>\n      <td>0</td>\n      <td>1</td>\n      <td>-1</td>\n    </tr>\n    <tr>\n      <th>1</th>\n      <td>aggregation0</td>\n      <td>0.459166</td>\n      <td>0.810174</td>\n      <td>150233.2975</td>\n      <td>0</td>\n      <td>0</td>\n      <td>SUCCESS</td>\n      <td>site_conf_2_site</td>\n      <td>0</td>\n      <td>1</td>\n      <td>0</td>\n    </tr>\n    <tr>\n      <th>2</th>\n      <td>aggregation0</td>\n      <td>0.430077</td>\n      <td>0.747849</td>\n      <td>142726.9100</td>\n      <td>0</td>\n      <td>0</td>\n      <td>SUCCESS</td>\n      <td>site_conf_2_site</td>\n      <td>0</td>\n      <td>1</td>\n      <td>1</td>\n    </tr>\n    <tr>\n      <th>3</th>\n      <td>aggregation0</td>\n      <td>0.509558</td>\n      <td>0.941832</td>\n      <td>150120.6025</td>\n      <td>0</td>\n      <td>0</td>\n      <td>SUCCESS</td>\n      <td>site_conf_2_site</td>\n      <td>0</td>\n      <td>1</td>\n      <td>2</td>\n    </tr>\n    <tr>\n      <th>4</th>\n      <td>aggregation0</td>\n      <td>0.550096</td>\n      <td>0.950936</td>\n      <td>171382.4175</td>\n      <td>0</td>\n      <td>0</td>\n      <td>SUCCESS</td>\n      <td>site_conf_2_site</td>\n      <td>0</td>\n      <td>1</td>\n      <td>3</td>\n    </tr>\n    <tr>\n      <th>...</th>\n      <td>...</td>\n      <td>...</td>\n      <td>...</td>\n      <td>...</td>\n      <td>...</td>\n      <td>...</td>\n      <td>...</td>\n      <td>...</td>\n      <td>...</td>\n      <td>...</td>\n      <td>...</td>\n    </tr>\n    <tr>\n      <th>22935</th>\n      <td>Sipht_30.xml</td>\n      <td>0.072199</td>\n      <td>0.001339</td>\n      <td>9813.0600</td>\n      <td>0</td>\n      <td>0</td>\n      <td>SUCCESS</td>\n      <td>site_conf_4_site</td>\n      <td>4</td>\n      <td>740</td>\n      <td>25</td>\n    </tr>\n    <tr>\n      <th>22936</th>\n      <td>Sipht_30.xml</td>\n      <td>0.070849</td>\n      <td>0.001337</td>\n      <td>9810.6500</td>\n      <td>0</td>\n      <td>0</td>\n      <td>SUCCESS</td>\n      <td>site_conf_4_site</td>\n      <td>4</td>\n      <td>740</td>\n      <td>26</td>\n    </tr>\n    <tr>\n      <th>22937</th>\n      <td>Sipht_30.xml</td>\n      <td>0.071773</td>\n      <td>0.001402</td>\n      <td>9810.6500</td>\n      <td>0</td>\n      <td>0</td>\n      <td>SUCCESS</td>\n      <td>site_conf_4_site</td>\n      <td>4</td>\n      <td>740</td>\n      <td>27</td>\n    </tr>\n    <tr>\n      <th>22938</th>\n      <td>Sipht_30.xml</td>\n      <td>0.070295</td>\n      <td>0.001308</td>\n      <td>9817.8050</td>\n      <td>0</td>\n      <td>0</td>\n      <td>SUCCESS</td>\n      <td>site_conf_4_site</td>\n      <td>4</td>\n      <td>740</td>\n      <td>28</td>\n    </tr>\n    <tr>\n      <th>22939</th>\n      <td>Sipht_30.xml</td>\n      <td>0.068528</td>\n      <td>0.001208</td>\n      <td>9810.5800</td>\n      <td>0</td>\n      <td>0</td>\n      <td>SUCCESS</td>\n      <td>site_conf_4_site</td>\n      <td>4</td>\n      <td>740</td>\n      <td>29</td>\n    </tr>\n  </tbody>\n</table>\n<p>22940 rows × 11 columns</p>\n</div>"
     },
     "execution_count": 99,
     "metadata": {},
     "output_type": "execute_result"
    }
   ],
   "source": [
    "original_data_frame = pd.read_csv('evaluation_final_results.csv')\n",
    "\n",
    "\n",
    "original_data_frame = original_data_frame[original_data_frame[\"STATUS\"] == \"SUCCESS\"]\n",
    "\n",
    "original_data_frame"
   ],
   "metadata": {
    "collapsed": false,
    "pycharm": {
     "name": "#%%\n"
    }
   }
  },
  {
   "cell_type": "code",
   "execution_count": 82,
   "outputs": [
    {
     "data": {
      "text/plain": "               NAME  TRANSFER-FACTOR-SIZE  TRANSFER-FACTOR-TIME     MAKESPAN  \\\n0      aggregation0              0.480848              0.914250  173460.3850   \n31     aggregation0              0.442794              0.901529  154490.2300   \n62     aggregation0              0.360600              0.859723  125023.7800   \n93     aggregation0              0.355952              0.741607  141377.6000   \n124    aggregation0              0.482831              0.987680  166717.9925   \n...             ...                   ...                   ...          ...   \n22785  Sipht_30.xml              0.006312              0.000472    9810.5800   \n22816  Sipht_30.xml              0.007843              0.001083    9858.4900   \n22847  Sipht_30.xml              0.007663              0.000511    9810.5800   \n22878  Sipht_30.xml              0.009514              0.000980    9858.4800   \n22909  Sipht_30.xml              0.009940              0.000577    9810.6500   \n\n       N  T   STATUS            CONFIG  DISTRIBUTION  RUN_COUNT  RND_COUNT  \n0      0  0  SUCCESS  site_conf_2_site             0          1         -1  \n31     0  0  SUCCESS  site_conf_2_site             1          2         -1  \n62     0  0  SUCCESS  site_conf_2_site             2          3         -1  \n93     0  0  SUCCESS  site_conf_2_site             3          4         -1  \n124    0  0  SUCCESS  site_conf_2_site             4          5         -1  \n...   .. ..      ...               ...           ...        ...        ...  \n22785  0  0  SUCCESS  site_conf_4_site             0        736         -1  \n22816  0  0  SUCCESS  site_conf_4_site             1        737         -1  \n22847  0  0  SUCCESS  site_conf_4_site             2        738         -1  \n22878  0  0  SUCCESS  site_conf_4_site             3        739         -1  \n22909  0  0  SUCCESS  site_conf_4_site             4        740         -1  \n\n[730 rows x 11 columns]",
      "text/html": "<div>\n<style scoped>\n    .dataframe tbody tr th:only-of-type {\n        vertical-align: middle;\n    }\n\n    .dataframe tbody tr th {\n        vertical-align: top;\n    }\n\n    .dataframe thead th {\n        text-align: right;\n    }\n</style>\n<table border=\"1\" class=\"dataframe\">\n  <thead>\n    <tr style=\"text-align: right;\">\n      <th></th>\n      <th>NAME</th>\n      <th>TRANSFER-FACTOR-SIZE</th>\n      <th>TRANSFER-FACTOR-TIME</th>\n      <th>MAKESPAN</th>\n      <th>N</th>\n      <th>T</th>\n      <th>STATUS</th>\n      <th>CONFIG</th>\n      <th>DISTRIBUTION</th>\n      <th>RUN_COUNT</th>\n      <th>RND_COUNT</th>\n    </tr>\n  </thead>\n  <tbody>\n    <tr>\n      <th>0</th>\n      <td>aggregation0</td>\n      <td>0.480848</td>\n      <td>0.914250</td>\n      <td>173460.3850</td>\n      <td>0</td>\n      <td>0</td>\n      <td>SUCCESS</td>\n      <td>site_conf_2_site</td>\n      <td>0</td>\n      <td>1</td>\n      <td>-1</td>\n    </tr>\n    <tr>\n      <th>31</th>\n      <td>aggregation0</td>\n      <td>0.442794</td>\n      <td>0.901529</td>\n      <td>154490.2300</td>\n      <td>0</td>\n      <td>0</td>\n      <td>SUCCESS</td>\n      <td>site_conf_2_site</td>\n      <td>1</td>\n      <td>2</td>\n      <td>-1</td>\n    </tr>\n    <tr>\n      <th>62</th>\n      <td>aggregation0</td>\n      <td>0.360600</td>\n      <td>0.859723</td>\n      <td>125023.7800</td>\n      <td>0</td>\n      <td>0</td>\n      <td>SUCCESS</td>\n      <td>site_conf_2_site</td>\n      <td>2</td>\n      <td>3</td>\n      <td>-1</td>\n    </tr>\n    <tr>\n      <th>93</th>\n      <td>aggregation0</td>\n      <td>0.355952</td>\n      <td>0.741607</td>\n      <td>141377.6000</td>\n      <td>0</td>\n      <td>0</td>\n      <td>SUCCESS</td>\n      <td>site_conf_2_site</td>\n      <td>3</td>\n      <td>4</td>\n      <td>-1</td>\n    </tr>\n    <tr>\n      <th>124</th>\n      <td>aggregation0</td>\n      <td>0.482831</td>\n      <td>0.987680</td>\n      <td>166717.9925</td>\n      <td>0</td>\n      <td>0</td>\n      <td>SUCCESS</td>\n      <td>site_conf_2_site</td>\n      <td>4</td>\n      <td>5</td>\n      <td>-1</td>\n    </tr>\n    <tr>\n      <th>...</th>\n      <td>...</td>\n      <td>...</td>\n      <td>...</td>\n      <td>...</td>\n      <td>...</td>\n      <td>...</td>\n      <td>...</td>\n      <td>...</td>\n      <td>...</td>\n      <td>...</td>\n      <td>...</td>\n    </tr>\n    <tr>\n      <th>22785</th>\n      <td>Sipht_30.xml</td>\n      <td>0.006312</td>\n      <td>0.000472</td>\n      <td>9810.5800</td>\n      <td>0</td>\n      <td>0</td>\n      <td>SUCCESS</td>\n      <td>site_conf_4_site</td>\n      <td>0</td>\n      <td>736</td>\n      <td>-1</td>\n    </tr>\n    <tr>\n      <th>22816</th>\n      <td>Sipht_30.xml</td>\n      <td>0.007843</td>\n      <td>0.001083</td>\n      <td>9858.4900</td>\n      <td>0</td>\n      <td>0</td>\n      <td>SUCCESS</td>\n      <td>site_conf_4_site</td>\n      <td>1</td>\n      <td>737</td>\n      <td>-1</td>\n    </tr>\n    <tr>\n      <th>22847</th>\n      <td>Sipht_30.xml</td>\n      <td>0.007663</td>\n      <td>0.000511</td>\n      <td>9810.5800</td>\n      <td>0</td>\n      <td>0</td>\n      <td>SUCCESS</td>\n      <td>site_conf_4_site</td>\n      <td>2</td>\n      <td>738</td>\n      <td>-1</td>\n    </tr>\n    <tr>\n      <th>22878</th>\n      <td>Sipht_30.xml</td>\n      <td>0.009514</td>\n      <td>0.000980</td>\n      <td>9858.4800</td>\n      <td>0</td>\n      <td>0</td>\n      <td>SUCCESS</td>\n      <td>site_conf_4_site</td>\n      <td>3</td>\n      <td>739</td>\n      <td>-1</td>\n    </tr>\n    <tr>\n      <th>22909</th>\n      <td>Sipht_30.xml</td>\n      <td>0.009940</td>\n      <td>0.000577</td>\n      <td>9810.6500</td>\n      <td>0</td>\n      <td>0</td>\n      <td>SUCCESS</td>\n      <td>site_conf_4_site</td>\n      <td>4</td>\n      <td>740</td>\n      <td>-1</td>\n    </tr>\n  </tbody>\n</table>\n<p>730 rows × 11 columns</p>\n</div>"
     },
     "execution_count": 82,
     "metadata": {},
     "output_type": "execute_result"
    }
   ],
   "source": [
    "our_approach = original_data_frame[original_data_frame['RND_COUNT'] == -1]\n",
    "our_approach"
   ],
   "metadata": {
    "collapsed": false,
    "pycharm": {
     "name": "#%%\n"
    }
   }
  },
  {
   "cell_type": "code",
   "execution_count": 83,
   "outputs": [
    {
     "data": {
      "text/plain": "               NAME  TRANSFER-FACTOR-SIZE  TRANSFER-FACTOR-TIME     MAKESPAN  \\\n1      aggregation0              0.459166              0.810174  150233.2975   \n2      aggregation0              0.430077              0.747849  142726.9100   \n3      aggregation0              0.509558              0.941832  150120.6025   \n4      aggregation0              0.550096              0.950936  171382.4175   \n5      aggregation0              0.524043              0.995747  148889.3700   \n...             ...                   ...                   ...          ...   \n22935  Sipht_30.xml              0.072199              0.001339    9813.0600   \n22936  Sipht_30.xml              0.070849              0.001337    9810.6500   \n22937  Sipht_30.xml              0.071773              0.001402    9810.6500   \n22938  Sipht_30.xml              0.070295              0.001308    9817.8050   \n22939  Sipht_30.xml              0.068528              0.001208    9810.5800   \n\n       N  T   STATUS            CONFIG  DISTRIBUTION  RUN_COUNT  RND_COUNT  \n1      0  0  SUCCESS  site_conf_2_site             0          1          0  \n2      0  0  SUCCESS  site_conf_2_site             0          1          1  \n3      0  0  SUCCESS  site_conf_2_site             0          1          2  \n4      0  0  SUCCESS  site_conf_2_site             0          1          3  \n5      0  0  SUCCESS  site_conf_2_site             0          1          4  \n...   .. ..      ...               ...           ...        ...        ...  \n22935  0  0  SUCCESS  site_conf_4_site             4        740         25  \n22936  0  0  SUCCESS  site_conf_4_site             4        740         26  \n22937  0  0  SUCCESS  site_conf_4_site             4        740         27  \n22938  0  0  SUCCESS  site_conf_4_site             4        740         28  \n22939  0  0  SUCCESS  site_conf_4_site             4        740         29  \n\n[21900 rows x 11 columns]",
      "text/html": "<div>\n<style scoped>\n    .dataframe tbody tr th:only-of-type {\n        vertical-align: middle;\n    }\n\n    .dataframe tbody tr th {\n        vertical-align: top;\n    }\n\n    .dataframe thead th {\n        text-align: right;\n    }\n</style>\n<table border=\"1\" class=\"dataframe\">\n  <thead>\n    <tr style=\"text-align: right;\">\n      <th></th>\n      <th>NAME</th>\n      <th>TRANSFER-FACTOR-SIZE</th>\n      <th>TRANSFER-FACTOR-TIME</th>\n      <th>MAKESPAN</th>\n      <th>N</th>\n      <th>T</th>\n      <th>STATUS</th>\n      <th>CONFIG</th>\n      <th>DISTRIBUTION</th>\n      <th>RUN_COUNT</th>\n      <th>RND_COUNT</th>\n    </tr>\n  </thead>\n  <tbody>\n    <tr>\n      <th>1</th>\n      <td>aggregation0</td>\n      <td>0.459166</td>\n      <td>0.810174</td>\n      <td>150233.2975</td>\n      <td>0</td>\n      <td>0</td>\n      <td>SUCCESS</td>\n      <td>site_conf_2_site</td>\n      <td>0</td>\n      <td>1</td>\n      <td>0</td>\n    </tr>\n    <tr>\n      <th>2</th>\n      <td>aggregation0</td>\n      <td>0.430077</td>\n      <td>0.747849</td>\n      <td>142726.9100</td>\n      <td>0</td>\n      <td>0</td>\n      <td>SUCCESS</td>\n      <td>site_conf_2_site</td>\n      <td>0</td>\n      <td>1</td>\n      <td>1</td>\n    </tr>\n    <tr>\n      <th>3</th>\n      <td>aggregation0</td>\n      <td>0.509558</td>\n      <td>0.941832</td>\n      <td>150120.6025</td>\n      <td>0</td>\n      <td>0</td>\n      <td>SUCCESS</td>\n      <td>site_conf_2_site</td>\n      <td>0</td>\n      <td>1</td>\n      <td>2</td>\n    </tr>\n    <tr>\n      <th>4</th>\n      <td>aggregation0</td>\n      <td>0.550096</td>\n      <td>0.950936</td>\n      <td>171382.4175</td>\n      <td>0</td>\n      <td>0</td>\n      <td>SUCCESS</td>\n      <td>site_conf_2_site</td>\n      <td>0</td>\n      <td>1</td>\n      <td>3</td>\n    </tr>\n    <tr>\n      <th>5</th>\n      <td>aggregation0</td>\n      <td>0.524043</td>\n      <td>0.995747</td>\n      <td>148889.3700</td>\n      <td>0</td>\n      <td>0</td>\n      <td>SUCCESS</td>\n      <td>site_conf_2_site</td>\n      <td>0</td>\n      <td>1</td>\n      <td>4</td>\n    </tr>\n    <tr>\n      <th>...</th>\n      <td>...</td>\n      <td>...</td>\n      <td>...</td>\n      <td>...</td>\n      <td>...</td>\n      <td>...</td>\n      <td>...</td>\n      <td>...</td>\n      <td>...</td>\n      <td>...</td>\n      <td>...</td>\n    </tr>\n    <tr>\n      <th>22935</th>\n      <td>Sipht_30.xml</td>\n      <td>0.072199</td>\n      <td>0.001339</td>\n      <td>9813.0600</td>\n      <td>0</td>\n      <td>0</td>\n      <td>SUCCESS</td>\n      <td>site_conf_4_site</td>\n      <td>4</td>\n      <td>740</td>\n      <td>25</td>\n    </tr>\n    <tr>\n      <th>22936</th>\n      <td>Sipht_30.xml</td>\n      <td>0.070849</td>\n      <td>0.001337</td>\n      <td>9810.6500</td>\n      <td>0</td>\n      <td>0</td>\n      <td>SUCCESS</td>\n      <td>site_conf_4_site</td>\n      <td>4</td>\n      <td>740</td>\n      <td>26</td>\n    </tr>\n    <tr>\n      <th>22937</th>\n      <td>Sipht_30.xml</td>\n      <td>0.071773</td>\n      <td>0.001402</td>\n      <td>9810.6500</td>\n      <td>0</td>\n      <td>0</td>\n      <td>SUCCESS</td>\n      <td>site_conf_4_site</td>\n      <td>4</td>\n      <td>740</td>\n      <td>27</td>\n    </tr>\n    <tr>\n      <th>22938</th>\n      <td>Sipht_30.xml</td>\n      <td>0.070295</td>\n      <td>0.001308</td>\n      <td>9817.8050</td>\n      <td>0</td>\n      <td>0</td>\n      <td>SUCCESS</td>\n      <td>site_conf_4_site</td>\n      <td>4</td>\n      <td>740</td>\n      <td>28</td>\n    </tr>\n    <tr>\n      <th>22939</th>\n      <td>Sipht_30.xml</td>\n      <td>0.068528</td>\n      <td>0.001208</td>\n      <td>9810.5800</td>\n      <td>0</td>\n      <td>0</td>\n      <td>SUCCESS</td>\n      <td>site_conf_4_site</td>\n      <td>4</td>\n      <td>740</td>\n      <td>29</td>\n    </tr>\n  </tbody>\n</table>\n<p>21900 rows × 11 columns</p>\n</div>"
     },
     "execution_count": 83,
     "metadata": {},
     "output_type": "execute_result"
    }
   ],
   "source": [
    "rnd_runs = original_data_frame[original_data_frame['RND_COUNT'] != -1]\n",
    "rnd_runs"
   ],
   "metadata": {
    "collapsed": false,
    "pycharm": {
     "name": "#%%\n"
    }
   }
  },
  {
   "cell_type": "code",
   "execution_count": 84,
   "outputs": [
    {
     "data": {
      "text/plain": "                NAME  N  T   STATUS            CONFIG DISTRIBUTION RUN_COUNT  \\\n                                                                               \n0     CyberShake_100  0  0  SUCCESS  site_conf_2_site            0       641   \n1     CyberShake_100  0  0  SUCCESS  site_conf_2_site            1       642   \n2     CyberShake_100  0  0  SUCCESS  site_conf_2_site            2       643   \n3     CyberShake_100  0  0  SUCCESS  site_conf_2_site            3       644   \n4     CyberShake_100  0  0  SUCCESS  site_conf_2_site            4       645   \n..               ... .. ..      ...               ...          ...       ...   \n725  redistribution4  0  0  SUCCESS  site_conf_4_site            0       596   \n726  redistribution4  0  0  SUCCESS  site_conf_4_site            1       597   \n727  redistribution4  0  0  SUCCESS  site_conf_4_site            2       598   \n728  redistribution4  0  0  SUCCESS  site_conf_4_site            3       599   \n729  redistribution4  0  0  SUCCESS  site_conf_4_site            4       600   \n\n    TRANSFER-FACTOR-SIZE           TRANSFER-FACTOR-TIME            \\\n                    mean       std                 mean       std   \n0               0.543655  0.003313             1.344475  0.005734   \n1               0.403372  0.070442             0.532968  0.132808   \n2               0.546651  0.001318             1.189164  0.052941   \n3               0.534180  0.003297             1.009306  0.081854   \n4               0.362195  0.069029             0.534500  0.234611   \n..                   ...       ...                  ...       ...   \n725             0.748399  0.029209             0.972326  0.096941   \n726             0.750466  0.029616             0.964659  0.110236   \n727             0.741728  0.028413             0.982913  0.123111   \n728             0.738989  0.031327             0.952054  0.159992   \n729             0.744169  0.031953             0.954984  0.082854   \n\n          MAKESPAN                \n              mean           std  \n0      2991.268000      1.382446  \n1      4822.803833    574.206923  \n2      2949.456500    149.473982  \n3      3611.794083    302.520761  \n4      4905.010083    985.629059  \n..             ...           ...  \n725  325063.029833  26718.018940  \n726  323001.728833  22764.432883  \n727  323317.667750  28512.462713  \n728  331070.270250  26770.939486  \n729  324863.564000  21237.610677  \n\n[730 rows x 13 columns]",
      "text/html": "<div>\n<style scoped>\n    .dataframe tbody tr th:only-of-type {\n        vertical-align: middle;\n    }\n\n    .dataframe tbody tr th {\n        vertical-align: top;\n    }\n\n    .dataframe thead tr th {\n        text-align: left;\n    }\n</style>\n<table border=\"1\" class=\"dataframe\">\n  <thead>\n    <tr>\n      <th></th>\n      <th>NAME</th>\n      <th>N</th>\n      <th>T</th>\n      <th>STATUS</th>\n      <th>CONFIG</th>\n      <th>DISTRIBUTION</th>\n      <th>RUN_COUNT</th>\n      <th colspan=\"2\" halign=\"left\">TRANSFER-FACTOR-SIZE</th>\n      <th colspan=\"2\" halign=\"left\">TRANSFER-FACTOR-TIME</th>\n      <th colspan=\"2\" halign=\"left\">MAKESPAN</th>\n    </tr>\n    <tr>\n      <th></th>\n      <th></th>\n      <th></th>\n      <th></th>\n      <th></th>\n      <th></th>\n      <th></th>\n      <th></th>\n      <th>mean</th>\n      <th>std</th>\n      <th>mean</th>\n      <th>std</th>\n      <th>mean</th>\n      <th>std</th>\n    </tr>\n  </thead>\n  <tbody>\n    <tr>\n      <th>0</th>\n      <td>CyberShake_100</td>\n      <td>0</td>\n      <td>0</td>\n      <td>SUCCESS</td>\n      <td>site_conf_2_site</td>\n      <td>0</td>\n      <td>641</td>\n      <td>0.543655</td>\n      <td>0.003313</td>\n      <td>1.344475</td>\n      <td>0.005734</td>\n      <td>2991.268000</td>\n      <td>1.382446</td>\n    </tr>\n    <tr>\n      <th>1</th>\n      <td>CyberShake_100</td>\n      <td>0</td>\n      <td>0</td>\n      <td>SUCCESS</td>\n      <td>site_conf_2_site</td>\n      <td>1</td>\n      <td>642</td>\n      <td>0.403372</td>\n      <td>0.070442</td>\n      <td>0.532968</td>\n      <td>0.132808</td>\n      <td>4822.803833</td>\n      <td>574.206923</td>\n    </tr>\n    <tr>\n      <th>2</th>\n      <td>CyberShake_100</td>\n      <td>0</td>\n      <td>0</td>\n      <td>SUCCESS</td>\n      <td>site_conf_2_site</td>\n      <td>2</td>\n      <td>643</td>\n      <td>0.546651</td>\n      <td>0.001318</td>\n      <td>1.189164</td>\n      <td>0.052941</td>\n      <td>2949.456500</td>\n      <td>149.473982</td>\n    </tr>\n    <tr>\n      <th>3</th>\n      <td>CyberShake_100</td>\n      <td>0</td>\n      <td>0</td>\n      <td>SUCCESS</td>\n      <td>site_conf_2_site</td>\n      <td>3</td>\n      <td>644</td>\n      <td>0.534180</td>\n      <td>0.003297</td>\n      <td>1.009306</td>\n      <td>0.081854</td>\n      <td>3611.794083</td>\n      <td>302.520761</td>\n    </tr>\n    <tr>\n      <th>4</th>\n      <td>CyberShake_100</td>\n      <td>0</td>\n      <td>0</td>\n      <td>SUCCESS</td>\n      <td>site_conf_2_site</td>\n      <td>4</td>\n      <td>645</td>\n      <td>0.362195</td>\n      <td>0.069029</td>\n      <td>0.534500</td>\n      <td>0.234611</td>\n      <td>4905.010083</td>\n      <td>985.629059</td>\n    </tr>\n    <tr>\n      <th>...</th>\n      <td>...</td>\n      <td>...</td>\n      <td>...</td>\n      <td>...</td>\n      <td>...</td>\n      <td>...</td>\n      <td>...</td>\n      <td>...</td>\n      <td>...</td>\n      <td>...</td>\n      <td>...</td>\n      <td>...</td>\n      <td>...</td>\n    </tr>\n    <tr>\n      <th>725</th>\n      <td>redistribution4</td>\n      <td>0</td>\n      <td>0</td>\n      <td>SUCCESS</td>\n      <td>site_conf_4_site</td>\n      <td>0</td>\n      <td>596</td>\n      <td>0.748399</td>\n      <td>0.029209</td>\n      <td>0.972326</td>\n      <td>0.096941</td>\n      <td>325063.029833</td>\n      <td>26718.018940</td>\n    </tr>\n    <tr>\n      <th>726</th>\n      <td>redistribution4</td>\n      <td>0</td>\n      <td>0</td>\n      <td>SUCCESS</td>\n      <td>site_conf_4_site</td>\n      <td>1</td>\n      <td>597</td>\n      <td>0.750466</td>\n      <td>0.029616</td>\n      <td>0.964659</td>\n      <td>0.110236</td>\n      <td>323001.728833</td>\n      <td>22764.432883</td>\n    </tr>\n    <tr>\n      <th>727</th>\n      <td>redistribution4</td>\n      <td>0</td>\n      <td>0</td>\n      <td>SUCCESS</td>\n      <td>site_conf_4_site</td>\n      <td>2</td>\n      <td>598</td>\n      <td>0.741728</td>\n      <td>0.028413</td>\n      <td>0.982913</td>\n      <td>0.123111</td>\n      <td>323317.667750</td>\n      <td>28512.462713</td>\n    </tr>\n    <tr>\n      <th>728</th>\n      <td>redistribution4</td>\n      <td>0</td>\n      <td>0</td>\n      <td>SUCCESS</td>\n      <td>site_conf_4_site</td>\n      <td>3</td>\n      <td>599</td>\n      <td>0.738989</td>\n      <td>0.031327</td>\n      <td>0.952054</td>\n      <td>0.159992</td>\n      <td>331070.270250</td>\n      <td>26770.939486</td>\n    </tr>\n    <tr>\n      <th>729</th>\n      <td>redistribution4</td>\n      <td>0</td>\n      <td>0</td>\n      <td>SUCCESS</td>\n      <td>site_conf_4_site</td>\n      <td>4</td>\n      <td>600</td>\n      <td>0.744169</td>\n      <td>0.031953</td>\n      <td>0.954984</td>\n      <td>0.082854</td>\n      <td>324863.564000</td>\n      <td>21237.610677</td>\n    </tr>\n  </tbody>\n</table>\n<p>730 rows × 13 columns</p>\n</div>"
     },
     "execution_count": 84,
     "metadata": {},
     "output_type": "execute_result"
    }
   ],
   "source": [
    "rnd_runs_aggregated = rnd_runs.groupby([\"NAME\", \"N\", \"T\", \"STATUS\", \"CONFIG\", \"DISTRIBUTION\", \"RUN_COUNT\"])[[\"TRANSFER-FACTOR-SIZE\", \"TRANSFER-FACTOR-TIME\", \"MAKESPAN\"]].agg([\"mean\", \"std\"]).reset_index()\n",
    "rnd_runs_aggregated"
   ],
   "metadata": {
    "collapsed": false,
    "pycharm": {
     "name": "#%%\n"
    }
   }
  },
  {
   "cell_type": "code",
   "execution_count": 85,
   "outputs": [],
   "source": [
    "rnd_runs_splitted = rnd_runs.groupby([\"NAME\", \"RUN_COUNT\"])\n"
   ],
   "metadata": {
    "collapsed": false,
    "pycharm": {
     "name": "#%%\n"
    }
   }
  },
  {
   "cell_type": "code",
   "execution_count": 86,
   "outputs": [
    {
     "name": "stderr",
     "output_type": "stream",
     "text": [
      "/home/fk/miniconda3/envs/experiments_master/lib/python3.8/site-packages/scipy/stats/_morestats.py:1813: UserWarning: Input data for shapiro has range zero. The results may not be accurate.\n",
      "  warnings.warn(\"Input data for shapiro has range zero. The results \"\n"
     ]
    },
    {
     "data": {
      "text/plain": "{('CyberShake_100', 641): False,\n ('CyberShake_100', 642): True,\n ('CyberShake_100', 643): False,\n ('CyberShake_100', 644): False,\n ('CyberShake_100', 645): True,\n ('CyberShake_100', 646): True,\n ('CyberShake_100', 647): False,\n ('CyberShake_100', 648): True,\n ('CyberShake_100', 649): True,\n ('CyberShake_100', 650): True,\n ('CyberShake_100', 651): False,\n ('CyberShake_100', 652): True,\n ('CyberShake_100', 653): False,\n ('CyberShake_100', 654): False,\n ('CyberShake_100', 655): False,\n ('CyberShake_100', 656): True,\n ('CyberShake_100', 657): True,\n ('CyberShake_100', 658): False,\n ('CyberShake_100', 659): True,\n ('CyberShake_100', 660): False,\n ('CyberShake_1000', 661): True,\n ('CyberShake_1000', 662): True,\n ('CyberShake_1000', 663): True,\n ('CyberShake_1000', 664): False,\n ('CyberShake_1000', 665): False,\n ('CyberShake_1000', 666): False,\n ('CyberShake_1000', 667): False,\n ('CyberShake_1000', 668): False,\n ('CyberShake_1000', 669): True,\n ('CyberShake_1000', 670): True,\n ('CyberShake_1000', 671): False,\n ('CyberShake_1000', 672): False,\n ('CyberShake_1000', 673): True,\n ('CyberShake_1000', 674): False,\n ('CyberShake_1000', 675): True,\n ('CyberShake_1000', 676): True,\n ('CyberShake_1000', 677): True,\n ('CyberShake_1000', 678): False,\n ('CyberShake_1000', 679): False,\n ('CyberShake_1000', 680): False,\n ('CyberShake_30', 601): False,\n ('CyberShake_30', 602): False,\n ('CyberShake_30', 603): True,\n ('CyberShake_30', 604): True,\n ('CyberShake_30', 605): False,\n ('CyberShake_30', 612): True,\n ('CyberShake_30', 613): True,\n ('CyberShake_30', 614): True,\n ('CyberShake_30', 615): True,\n ('CyberShake_30', 617): False,\n ('CyberShake_50', 621): True,\n ('CyberShake_50', 622): False,\n ('CyberShake_50', 623): False,\n ('CyberShake_50', 624): True,\n ('CyberShake_50', 625): False,\n ('CyberShake_50', 626): False,\n ('CyberShake_50', 627): False,\n ('CyberShake_50', 628): False,\n ('CyberShake_50', 629): True,\n ('CyberShake_50', 630): False,\n ('CyberShake_50', 631): False,\n ('CyberShake_50', 632): False,\n ('CyberShake_50', 633): False,\n ('CyberShake_50', 634): False,\n ('CyberShake_50', 635): False,\n ('CyberShake_50', 636): False,\n ('CyberShake_50', 637): False,\n ('CyberShake_50', 638): False,\n ('CyberShake_50', 639): False,\n ('CyberShake_50', 640): False,\n ('Epigenomics_24', 681): False,\n ('Epigenomics_24', 682): False,\n ('Epigenomics_24', 683): False,\n ('Epigenomics_24', 684): True,\n ('Epigenomics_24', 685): True,\n ('Epigenomics_24', 686): False,\n ('Epigenomics_24', 687): False,\n ('Epigenomics_24', 688): False,\n ('Epigenomics_24', 689): False,\n ('Epigenomics_24', 690): False,\n ('Epigenomics_24', 691): False,\n ('Epigenomics_24', 692): False,\n ('Epigenomics_24', 693): False,\n ('Epigenomics_24', 694): False,\n ('Epigenomics_24', 695): False,\n ('Epigenomics_24', 696): False,\n ('Epigenomics_24', 697): False,\n ('Epigenomics_24', 698): False,\n ('Epigenomics_24', 699): False,\n ('Epigenomics_24', 700): False,\n ('Sipht_30.xml', 721): True,\n ('Sipht_30.xml', 722): True,\n ('Sipht_30.xml', 723): False,\n ('Sipht_30.xml', 724): False,\n ('Sipht_30.xml', 725): True,\n ('Sipht_30.xml', 726): True,\n ('Sipht_30.xml', 727): True,\n ('Sipht_30.xml', 728): True,\n ('Sipht_30.xml', 729): True,\n ('Sipht_30.xml', 730): True,\n ('Sipht_30.xml', 731): True,\n ('Sipht_30.xml', 732): True,\n ('Sipht_30.xml', 733): True,\n ('Sipht_30.xml', 734): True,\n ('Sipht_30.xml', 735): False,\n ('Sipht_30.xml', 736): True,\n ('Sipht_30.xml', 737): True,\n ('Sipht_30.xml', 738): True,\n ('Sipht_30.xml', 739): True,\n ('Sipht_30.xml', 740): True,\n ('aggregation0', 1): True,\n ('aggregation0', 2): True,\n ('aggregation0', 3): True,\n ('aggregation0', 4): True,\n ('aggregation0', 5): True,\n ('aggregation0', 6): True,\n ('aggregation0', 7): True,\n ('aggregation0', 8): True,\n ('aggregation0', 9): True,\n ('aggregation0', 10): True,\n ('aggregation0', 11): True,\n ('aggregation0', 12): True,\n ('aggregation0', 13): True,\n ('aggregation0', 14): True,\n ('aggregation0', 15): True,\n ('aggregation0', 16): True,\n ('aggregation0', 17): True,\n ('aggregation0', 18): True,\n ('aggregation0', 19): True,\n ('aggregation0', 20): True,\n ('aggregation1', 121): True,\n ('aggregation1', 122): True,\n ('aggregation1', 123): True,\n ('aggregation1', 124): False,\n ('aggregation1', 125): True,\n ('aggregation1', 126): True,\n ('aggregation1', 127): True,\n ('aggregation1', 128): True,\n ('aggregation1', 129): True,\n ('aggregation1', 130): True,\n ('aggregation1', 131): False,\n ('aggregation1', 132): False,\n ('aggregation1', 133): False,\n ('aggregation1', 134): False,\n ('aggregation1', 135): False,\n ('aggregation1', 136): True,\n ('aggregation1', 137): True,\n ('aggregation1', 138): False,\n ('aggregation1', 139): True,\n ('aggregation1', 140): True,\n ('aggregation2', 241): True,\n ('aggregation2', 242): True,\n ('aggregation2', 243): True,\n ('aggregation2', 244): True,\n ('aggregation2', 245): True,\n ('aggregation2', 246): True,\n ('aggregation2', 247): True,\n ('aggregation2', 248): True,\n ('aggregation2', 249): True,\n ('aggregation2', 250): True,\n ('aggregation2', 251): False,\n ('aggregation2', 252): False,\n ('aggregation2', 253): True,\n ('aggregation2', 254): True,\n ('aggregation2', 255): True,\n ('aggregation2', 256): True,\n ('aggregation2', 257): True,\n ('aggregation2', 258): True,\n ('aggregation2', 259): True,\n ('aggregation2', 260): True,\n ('aggregation3', 361): True,\n ('aggregation3', 362): True,\n ('aggregation3', 363): True,\n ('aggregation3', 364): True,\n ('aggregation3', 365): False,\n ('aggregation3', 366): True,\n ('aggregation3', 367): True,\n ('aggregation3', 368): False,\n ('aggregation3', 369): True,\n ('aggregation3', 370): True,\n ('aggregation3', 371): False,\n ('aggregation3', 372): False,\n ('aggregation3', 373): False,\n ('aggregation3', 374): False,\n ('aggregation3', 375): False,\n ('aggregation3', 376): True,\n ('aggregation3', 377): False,\n ('aggregation3', 378): False,\n ('aggregation3', 379): True,\n ('aggregation3', 380): False,\n ('aggregation4', 481): True,\n ('aggregation4', 482): True,\n ('aggregation4', 483): False,\n ('aggregation4', 484): True,\n ('aggregation4', 485): True,\n ('aggregation4', 486): True,\n ('aggregation4', 487): True,\n ('aggregation4', 488): True,\n ('aggregation4', 489): True,\n ('aggregation4', 490): True,\n ('aggregation4', 491): False,\n ('aggregation4', 492): False,\n ('aggregation4', 493): False,\n ('aggregation4', 494): False,\n ('aggregation4', 495): False,\n ('aggregation4', 496): False,\n ('aggregation4', 497): True,\n ('aggregation4', 498): True,\n ('aggregation4', 499): True,\n ('aggregation4', 500): True,\n ('distribution0', 21): True,\n ('distribution0', 22): True,\n ('distribution0', 23): True,\n ('distribution0', 24): True,\n ('distribution0', 25): True,\n ('distribution0', 26): True,\n ('distribution0', 27): True,\n ('distribution0', 28): True,\n ('distribution0', 29): True,\n ('distribution0', 30): True,\n ('distribution0', 31): True,\n ('distribution0', 32): True,\n ('distribution0', 33): True,\n ('distribution0', 34): True,\n ('distribution0', 35): True,\n ('distribution0', 36): True,\n ('distribution0', 37): True,\n ('distribution0', 38): True,\n ('distribution0', 39): True,\n ('distribution0', 40): True,\n ('distribution1', 141): True,\n ('distribution1', 142): True,\n ('distribution1', 143): True,\n ('distribution1', 144): True,\n ('distribution1', 145): True,\n ('distribution1', 146): True,\n ('distribution1', 147): True,\n ('distribution1', 148): True,\n ('distribution1', 149): True,\n ('distribution1', 150): True,\n ('distribution1', 151): True,\n ('distribution1', 152): True,\n ('distribution1', 153): False,\n ('distribution1', 154): True,\n ('distribution1', 155): True,\n ('distribution1', 156): True,\n ('distribution1', 157): True,\n ('distribution1', 158): True,\n ('distribution1', 159): False,\n ('distribution1', 160): True,\n ('distribution2', 261): True,\n ('distribution2', 262): True,\n ('distribution2', 263): True,\n ('distribution2', 264): True,\n ('distribution2', 265): True,\n ('distribution2', 266): True,\n ('distribution2', 267): True,\n ('distribution2', 268): False,\n ('distribution2', 269): True,\n ('distribution2', 270): True,\n ('distribution2', 271): True,\n ('distribution2', 272): True,\n ('distribution2', 273): True,\n ('distribution2', 274): True,\n ('distribution2', 275): True,\n ('distribution2', 276): True,\n ('distribution2', 277): True,\n ('distribution2', 278): False,\n ('distribution2', 279): True,\n ('distribution2', 280): True,\n ('distribution3', 381): False,\n ('distribution3', 382): False,\n ('distribution3', 383): False,\n ('distribution3', 384): False,\n ('distribution3', 385): False,\n ('distribution3', 386): True,\n ('distribution3', 387): True,\n ('distribution3', 388): True,\n ('distribution3', 389): False,\n ('distribution3', 390): True,\n ('distribution3', 391): True,\n ('distribution3', 392): True,\n ('distribution3', 393): True,\n ('distribution3', 394): True,\n ('distribution3', 395): True,\n ('distribution3', 396): False,\n ('distribution3', 397): False,\n ('distribution3', 398): False,\n ('distribution3', 399): False,\n ('distribution3', 400): False,\n ('distribution4', 501): True,\n ('distribution4', 502): True,\n ('distribution4', 503): True,\n ('distribution4', 504): True,\n ('distribution4', 505): True,\n ('distribution4', 506): True,\n ('distribution4', 507): True,\n ('distribution4', 508): True,\n ('distribution4', 509): True,\n ('distribution4', 510): True,\n ('distribution4', 511): True,\n ('distribution4', 512): True,\n ('distribution4', 513): True,\n ('distribution4', 514): True,\n ('distribution4', 515): True,\n ('distribution4', 516): True,\n ('distribution4', 517): True,\n ('distribution4', 518): True,\n ('distribution4', 519): True,\n ('distribution4', 520): True,\n ('floodplain', 701): True,\n ('floodplain', 702): True,\n ('floodplain', 703): False,\n ('floodplain', 704): True,\n ('floodplain', 705): True,\n ('floodplain', 706): True,\n ('floodplain', 707): True,\n ('floodplain', 708): False,\n ('floodplain', 709): True,\n ('floodplain', 710): True,\n ('floodplain', 711): True,\n ('floodplain', 712): True,\n ('floodplain', 713): True,\n ('floodplain', 714): True,\n ('floodplain', 715): True,\n ('floodplain', 716): True,\n ('floodplain', 717): True,\n ('floodplain', 718): True,\n ('floodplain', 719): True,\n ('floodplain', 720): True,\n ('groups0', 41): True,\n ('groups0', 42): True,\n ('groups0', 43): True,\n ('groups0', 44): True,\n ('groups0', 45): True,\n ('groups0', 46): True,\n ('groups0', 47): True,\n ('groups0', 48): True,\n ('groups0', 49): True,\n ('groups0', 50): True,\n ('groups0', 51): True,\n ('groups0', 52): False,\n ('groups0', 53): True,\n ('groups0', 54): False,\n ('groups0', 55): True,\n ('groups0', 56): True,\n ('groups0', 57): True,\n ('groups0', 58): True,\n ('groups0', 59): True,\n ('groups0', 60): True,\n ('groups1', 161): True,\n ('groups1', 162): True,\n ('groups1', 163): True,\n ('groups1', 164): True,\n ('groups1', 165): True,\n ('groups1', 166): True,\n ('groups1', 167): True,\n ('groups1', 168): True,\n ('groups1', 169): True,\n ('groups1', 170): True,\n ('groups1', 171): True,\n ('groups1', 172): True,\n ('groups1', 173): True,\n ('groups1', 174): True,\n ('groups1', 175): True,\n ('groups1', 176): True,\n ('groups1', 177): True,\n ('groups1', 178): True,\n ('groups1', 179): True,\n ('groups1', 180): True,\n ('groups2', 281): True,\n ('groups2', 282): True,\n ('groups2', 283): True,\n ('groups2', 284): True,\n ('groups2', 285): True,\n ('groups2', 286): True,\n ('groups2', 287): True,\n ('groups2', 288): True,\n ('groups2', 289): True,\n ('groups2', 290): True,\n ('groups2', 291): True,\n ('groups2', 292): True,\n ('groups2', 293): True,\n ('groups2', 294): True,\n ('groups2', 295): True,\n ('groups2', 296): True,\n ('groups2', 297): True,\n ('groups2', 298): True,\n ('groups2', 299): True,\n ('groups2', 300): True,\n ('groups3', 401): True,\n ('groups3', 402): True,\n ('groups3', 403): True,\n ('groups3', 404): True,\n ('groups3', 405): True,\n ('groups3', 406): True,\n ('groups3', 407): True,\n ('groups3', 408): True,\n ('groups3', 409): True,\n ('groups3', 410): True,\n ('groups3', 411): True,\n ('groups3', 412): True,\n ('groups3', 413): True,\n ('groups3', 414): True,\n ('groups3', 415): True,\n ('groups3', 416): True,\n ('groups3', 417): True,\n ('groups3', 418): True,\n ('groups3', 419): True,\n ('groups3', 420): True,\n ('groups4', 521): True,\n ('groups4', 522): True,\n ('groups4', 523): True,\n ('groups4', 524): True,\n ('groups4', 525): True,\n ('groups4', 526): True,\n ('groups4', 527): True,\n ('groups4', 528): True,\n ('groups4', 529): True,\n ('groups4', 530): True,\n ('groups4', 531): True,\n ('groups4', 532): True,\n ('groups4', 533): True,\n ('groups4', 534): True,\n ('groups4', 535): True,\n ('groups4', 536): True,\n ('groups4', 537): True,\n ('groups4', 538): False,\n ('groups4', 539): True,\n ('groups4', 540): True,\n ('longPipeline0', 61): False,\n ('longPipeline0', 62): True,\n ('longPipeline0', 63): True,\n ('longPipeline0', 64): True,\n ('longPipeline0', 65): True,\n ('longPipeline0', 66): True,\n ('longPipeline0', 67): True,\n ('longPipeline0', 68): True,\n ('longPipeline0', 69): False,\n ('longPipeline0', 70): True,\n ('longPipeline0', 71): True,\n ('longPipeline0', 72): True,\n ('longPipeline0', 73): True,\n ('longPipeline0', 74): True,\n ('longPipeline0', 75): True,\n ('longPipeline0', 76): True,\n ('longPipeline0', 77): True,\n ('longPipeline0', 78): True,\n ('longPipeline0', 79): True,\n ('longPipeline0', 80): True,\n ('longPipeline1', 181): True,\n ('longPipeline1', 182): True,\n ('longPipeline1', 183): True,\n ('longPipeline1', 184): True,\n ('longPipeline1', 185): True,\n ('longPipeline1', 186): True,\n ('longPipeline1', 187): True,\n ('longPipeline1', 188): True,\n ('longPipeline1', 189): True,\n ('longPipeline1', 190): True,\n ('longPipeline1', 191): True,\n ('longPipeline1', 192): True,\n ('longPipeline1', 193): True,\n ('longPipeline1', 194): True,\n ('longPipeline1', 195): True,\n ('longPipeline1', 196): True,\n ('longPipeline1', 197): True,\n ('longPipeline1', 198): True,\n ('longPipeline1', 199): True,\n ('longPipeline1', 200): True,\n ('longPipeline2', 301): True,\n ('longPipeline2', 302): True,\n ('longPipeline2', 303): True,\n ('longPipeline2', 304): True,\n ('longPipeline2', 305): True,\n ('longPipeline2', 306): True,\n ('longPipeline2', 307): True,\n ('longPipeline2', 308): False,\n ('longPipeline2', 309): True,\n ('longPipeline2', 310): True,\n ('longPipeline2', 311): True,\n ('longPipeline2', 312): True,\n ('longPipeline2', 313): True,\n ('longPipeline2', 314): True,\n ('longPipeline2', 315): True,\n ('longPipeline2', 316): True,\n ('longPipeline2', 317): True,\n ('longPipeline2', 318): True,\n ('longPipeline2', 319): True,\n ('longPipeline2', 320): True,\n ('longPipeline3', 421): True,\n ('longPipeline3', 422): True,\n ('longPipeline3', 423): True,\n ('longPipeline3', 424): True,\n ('longPipeline3', 425): True,\n ('longPipeline3', 426): True,\n ('longPipeline3', 427): True,\n ('longPipeline3', 428): True,\n ('longPipeline3', 429): False,\n ('longPipeline3', 430): True,\n ('longPipeline3', 431): True,\n ('longPipeline3', 432): True,\n ('longPipeline3', 433): True,\n ('longPipeline3', 434): True,\n ('longPipeline3', 435): True,\n ('longPipeline3', 436): True,\n ('longPipeline3', 437): True,\n ('longPipeline3', 438): False,\n ('longPipeline3', 439): True,\n ('longPipeline3', 440): True,\n ('longPipeline4', 541): True,\n ('longPipeline4', 542): True,\n ('longPipeline4', 543): True,\n ('longPipeline4', 544): True,\n ('longPipeline4', 545): True,\n ('longPipeline4', 546): True,\n ('longPipeline4', 547): True,\n ('longPipeline4', 548): True,\n ('longPipeline4', 549): True,\n ('longPipeline4', 550): True,\n ('longPipeline4', 551): True,\n ('longPipeline4', 552): True,\n ('longPipeline4', 553): True,\n ('longPipeline4', 554): True,\n ('longPipeline4', 555): True,\n ('longPipeline4', 556): False,\n ('longPipeline4', 557): True,\n ('longPipeline4', 558): True,\n ('longPipeline4', 559): True,\n ('longPipeline4', 560): True,\n ('multiPipeline0', 81): True,\n ('multiPipeline0', 82): True,\n ('multiPipeline0', 83): True,\n ('multiPipeline0', 84): False,\n ('multiPipeline0', 85): True,\n ('multiPipeline0', 86): True,\n ('multiPipeline0', 87): True,\n ('multiPipeline0', 88): True,\n ('multiPipeline0', 89): True,\n ('multiPipeline0', 90): True,\n ('multiPipeline0', 91): True,\n ('multiPipeline0', 92): True,\n ('multiPipeline0', 93): True,\n ('multiPipeline0', 94): True,\n ('multiPipeline0', 95): True,\n ('multiPipeline0', 96): True,\n ('multiPipeline0', 97): True,\n ('multiPipeline0', 98): True,\n ('multiPipeline0', 99): True,\n ('multiPipeline0', 100): True,\n ('multiPipeline1', 201): True,\n ('multiPipeline1', 202): True,\n ('multiPipeline1', 203): True,\n ('multiPipeline1', 204): True,\n ('multiPipeline1', 205): True,\n ('multiPipeline1', 206): True,\n ('multiPipeline1', 207): True,\n ('multiPipeline1', 208): True,\n ('multiPipeline1', 209): True,\n ('multiPipeline1', 210): True,\n ('multiPipeline1', 211): True,\n ('multiPipeline1', 212): True,\n ('multiPipeline1', 213): False,\n ('multiPipeline1', 214): True,\n ('multiPipeline1', 215): False,\n ('multiPipeline1', 216): True,\n ('multiPipeline1', 217): True,\n ('multiPipeline1', 218): True,\n ('multiPipeline1', 219): True,\n ('multiPipeline1', 220): True,\n ('multiPipeline2', 321): True,\n ('multiPipeline2', 322): True,\n ('multiPipeline2', 323): True,\n ('multiPipeline2', 324): True,\n ('multiPipeline2', 325): True,\n ('multiPipeline2', 326): True,\n ('multiPipeline2', 327): True,\n ('multiPipeline2', 328): True,\n ('multiPipeline2', 329): True,\n ('multiPipeline2', 330): True,\n ('multiPipeline2', 331): True,\n ('multiPipeline2', 332): True,\n ('multiPipeline2', 333): True,\n ('multiPipeline2', 334): True,\n ('multiPipeline2', 335): True,\n ('multiPipeline2', 336): True,\n ('multiPipeline2', 337): True,\n ('multiPipeline2', 338): True,\n ('multiPipeline2', 339): True,\n ('multiPipeline2', 340): True,\n ('multiPipeline3', 441): True,\n ('multiPipeline3', 442): True,\n ('multiPipeline3', 443): True,\n ('multiPipeline3', 444): True,\n ('multiPipeline3', 445): False,\n ('multiPipeline3', 446): True,\n ('multiPipeline3', 447): True,\n ('multiPipeline3', 448): True,\n ('multiPipeline3', 449): True,\n ('multiPipeline3', 450): True,\n ('multiPipeline3', 451): True,\n ('multiPipeline3', 452): True,\n ('multiPipeline3', 453): True,\n ('multiPipeline3', 454): False,\n ('multiPipeline3', 455): True,\n ('multiPipeline3', 456): True,\n ('multiPipeline3', 457): True,\n ('multiPipeline3', 458): True,\n ('multiPipeline3', 459): True,\n ('multiPipeline3', 460): True,\n ('multiPipeline4', 561): True,\n ('multiPipeline4', 562): True,\n ('multiPipeline4', 563): True,\n ('multiPipeline4', 564): True,\n ('multiPipeline4', 565): True,\n ('multiPipeline4', 566): True,\n ('multiPipeline4', 567): True,\n ('multiPipeline4', 568): True,\n ('multiPipeline4', 569): True,\n ('multiPipeline4', 570): True,\n ('multiPipeline4', 571): True,\n ('multiPipeline4', 572): False,\n ('multiPipeline4', 573): True,\n ('multiPipeline4', 574): True,\n ('multiPipeline4', 575): True,\n ('multiPipeline4', 576): True,\n ('multiPipeline4', 577): False,\n ('multiPipeline4', 578): True,\n ('multiPipeline4', 579): True,\n ('multiPipeline4', 580): True,\n ('redistribution0', 101): True,\n ('redistribution0', 102): True,\n ('redistribution0', 103): True,\n ('redistribution0', 104): True,\n ('redistribution0', 105): True,\n ('redistribution0', 106): True,\n ('redistribution0', 107): True,\n ('redistribution0', 108): True,\n ('redistribution0', 109): True,\n ('redistribution0', 110): True,\n ('redistribution0', 111): True,\n ('redistribution0', 112): True,\n ('redistribution0', 113): True,\n ('redistribution0', 114): True,\n ('redistribution0', 115): True,\n ('redistribution0', 116): True,\n ('redistribution0', 117): True,\n ('redistribution0', 118): True,\n ('redistribution0', 119): True,\n ('redistribution0', 120): True,\n ('redistribution1', 221): True,\n ('redistribution1', 222): True,\n ('redistribution1', 223): True,\n ('redistribution1', 224): True,\n ('redistribution1', 225): True,\n ('redistribution1', 226): True,\n ('redistribution1', 227): True,\n ('redistribution1', 228): True,\n ('redistribution1', 229): False,\n ('redistribution1', 230): True,\n ('redistribution1', 231): True,\n ('redistribution1', 232): True,\n ('redistribution1', 233): False,\n ('redistribution1', 234): True,\n ('redistribution1', 235): True,\n ('redistribution1', 236): True,\n ('redistribution1', 237): True,\n ('redistribution1', 238): True,\n ('redistribution1', 239): True,\n ('redistribution1', 240): True,\n ('redistribution2', 341): True,\n ('redistribution2', 342): True,\n ('redistribution2', 343): True,\n ('redistribution2', 344): False,\n ('redistribution2', 345): True,\n ('redistribution2', 346): True,\n ('redistribution2', 347): True,\n ('redistribution2', 348): True,\n ('redistribution2', 349): False,\n ('redistribution2', 350): True,\n ('redistribution2', 351): True,\n ('redistribution2', 352): True,\n ('redistribution2', 353): True,\n ('redistribution2', 354): True,\n ('redistribution2', 355): True,\n ('redistribution2', 356): True,\n ('redistribution2', 357): True,\n ('redistribution2', 358): True,\n ('redistribution2', 359): True,\n ('redistribution2', 360): True,\n ('redistribution3', 461): True,\n ('redistribution3', 462): True,\n ('redistribution3', 463): True,\n ('redistribution3', 464): True,\n ('redistribution3', 465): False,\n ('redistribution3', 466): True,\n ('redistribution3', 467): True,\n ('redistribution3', 468): True,\n ('redistribution3', 469): True,\n ('redistribution3', 470): True,\n ('redistribution3', 471): True,\n ('redistribution3', 472): True,\n ('redistribution3', 473): True,\n ('redistribution3', 474): True,\n ('redistribution3', 475): True,\n ('redistribution3', 476): True,\n ('redistribution3', 477): True,\n ('redistribution3', 478): True,\n ('redistribution3', 479): True,\n ('redistribution3', 480): False,\n ('redistribution4', 581): True,\n ('redistribution4', 582): True,\n ('redistribution4', 583): True,\n ('redistribution4', 584): True,\n ('redistribution4', 585): True,\n ('redistribution4', 586): False,\n ('redistribution4', 587): True,\n ('redistribution4', 588): True,\n ('redistribution4', 589): True,\n ('redistribution4', 590): True,\n ('redistribution4', 591): True,\n ('redistribution4', 592): True,\n ('redistribution4', 593): True,\n ('redistribution4', 594): True,\n ('redistribution4', 595): True,\n ('redistribution4', 596): True,\n ('redistribution4', 597): True,\n ('redistribution4', 598): True,\n ('redistribution4', 599): False,\n ('redistribution4', 600): True}"
     },
     "execution_count": 86,
     "metadata": {},
     "output_type": "execute_result"
    }
   ],
   "source": [
    "rnd_distributions = dict()\n",
    "for key, df in rnd_runs_splitted:\n",
    "    rnd_distributions[key] = stats.shapiro(df[\"TRANSFER-FACTOR-SIZE\"])[1] > 0.05\n",
    "    # rnd_distributions[key] = stats.shapiro(df[\"MAKESPAN\"])[1] > 0.05\n",
    "\n",
    "rnd_distributions\n",
    "# stats.shapiro(list(rnd_runs_splitted)[60][1][\"TRANSFER-FACTOR-SIZE\"])[1] > 0.05"
   ],
   "metadata": {
    "collapsed": false,
    "pycharm": {
     "name": "#%%\n"
    }
   }
  },
  {
   "cell_type": "code",
   "execution_count": 89,
   "outputs": [
    {
     "data": {
      "text/plain": "             NAME  U_stat   p_value  significant  random_mean  random_dev  \\\n1    aggregation0    17.0  0.451613        False     0.491694    0.041460   \n2    aggregation0    30.0  0.032258         True     0.506319    0.035419   \n3    aggregation0    30.0  0.032258         True     0.506364    0.040588   \n4    aggregation0    30.0  0.032258         True     0.499838    0.039893   \n5    aggregation0    17.0  0.451613        False     0.483258    0.040420   \n..            ...     ...       ...          ...          ...         ...   \n736  Sipht_30.xml    30.0  0.052440        False     0.070251    0.001502   \n737  Sipht_30.xml    30.0  0.052388        False     0.070613    0.001334   \n738  Sipht_30.xml    30.0  0.052353        False     0.069971    0.001228   \n739  Sipht_30.xml    30.0  0.052370        False     0.070334    0.001257   \n740  Sipht_30.xml    30.0  0.052353        False     0.070515    0.001262   \n\n     deterministic_value  \n1               0.480848  \n2               0.442794  \n3               0.360600  \n4               0.355952  \n5               0.482831  \n..                   ...  \n736             0.006312  \n737             0.007843  \n738             0.007663  \n739             0.009514  \n740             0.009940  \n\n[730 rows x 7 columns]",
      "text/html": "<div>\n<style scoped>\n    .dataframe tbody tr th:only-of-type {\n        vertical-align: middle;\n    }\n\n    .dataframe tbody tr th {\n        vertical-align: top;\n    }\n\n    .dataframe thead th {\n        text-align: right;\n    }\n</style>\n<table border=\"1\" class=\"dataframe\">\n  <thead>\n    <tr style=\"text-align: right;\">\n      <th></th>\n      <th>NAME</th>\n      <th>U_stat</th>\n      <th>p_value</th>\n      <th>significant</th>\n      <th>random_mean</th>\n      <th>random_dev</th>\n      <th>deterministic_value</th>\n    </tr>\n  </thead>\n  <tbody>\n    <tr>\n      <th>1</th>\n      <td>aggregation0</td>\n      <td>17.0</td>\n      <td>0.451613</td>\n      <td>False</td>\n      <td>0.491694</td>\n      <td>0.041460</td>\n      <td>0.480848</td>\n    </tr>\n    <tr>\n      <th>2</th>\n      <td>aggregation0</td>\n      <td>30.0</td>\n      <td>0.032258</td>\n      <td>True</td>\n      <td>0.506319</td>\n      <td>0.035419</td>\n      <td>0.442794</td>\n    </tr>\n    <tr>\n      <th>3</th>\n      <td>aggregation0</td>\n      <td>30.0</td>\n      <td>0.032258</td>\n      <td>True</td>\n      <td>0.506364</td>\n      <td>0.040588</td>\n      <td>0.360600</td>\n    </tr>\n    <tr>\n      <th>4</th>\n      <td>aggregation0</td>\n      <td>30.0</td>\n      <td>0.032258</td>\n      <td>True</td>\n      <td>0.499838</td>\n      <td>0.039893</td>\n      <td>0.355952</td>\n    </tr>\n    <tr>\n      <th>5</th>\n      <td>aggregation0</td>\n      <td>17.0</td>\n      <td>0.451613</td>\n      <td>False</td>\n      <td>0.483258</td>\n      <td>0.040420</td>\n      <td>0.482831</td>\n    </tr>\n    <tr>\n      <th>...</th>\n      <td>...</td>\n      <td>...</td>\n      <td>...</td>\n      <td>...</td>\n      <td>...</td>\n      <td>...</td>\n      <td>...</td>\n    </tr>\n    <tr>\n      <th>736</th>\n      <td>Sipht_30.xml</td>\n      <td>30.0</td>\n      <td>0.052440</td>\n      <td>False</td>\n      <td>0.070251</td>\n      <td>0.001502</td>\n      <td>0.006312</td>\n    </tr>\n    <tr>\n      <th>737</th>\n      <td>Sipht_30.xml</td>\n      <td>30.0</td>\n      <td>0.052388</td>\n      <td>False</td>\n      <td>0.070613</td>\n      <td>0.001334</td>\n      <td>0.007843</td>\n    </tr>\n    <tr>\n      <th>738</th>\n      <td>Sipht_30.xml</td>\n      <td>30.0</td>\n      <td>0.052353</td>\n      <td>False</td>\n      <td>0.069971</td>\n      <td>0.001228</td>\n      <td>0.007663</td>\n    </tr>\n    <tr>\n      <th>739</th>\n      <td>Sipht_30.xml</td>\n      <td>30.0</td>\n      <td>0.052370</td>\n      <td>False</td>\n      <td>0.070334</td>\n      <td>0.001257</td>\n      <td>0.009514</td>\n    </tr>\n    <tr>\n      <th>740</th>\n      <td>Sipht_30.xml</td>\n      <td>30.0</td>\n      <td>0.052353</td>\n      <td>False</td>\n      <td>0.070515</td>\n      <td>0.001262</td>\n      <td>0.009940</td>\n    </tr>\n  </tbody>\n</table>\n<p>730 rows × 7 columns</p>\n</div>"
     },
     "execution_count": 89,
     "metadata": {},
     "output_type": "execute_result"
    }
   ],
   "source": [
    "results = {}\n",
    "# Group by RUN_COUNTER and perform the test\n",
    "for run_counter, random_group in rnd_runs.groupby(\"RUN_COUNT\"):\n",
    "    row = our_approach.loc[our_approach[\"RUN_COUNT\"] == run_counter]\n",
    "\n",
    "    deterministic_value = row[\"TRANSFER-FACTOR-SIZE\"].values[0]\n",
    "    name = row[\"NAME\"].values[0]\n",
    "\n",
    "    random_mean = random_group[\"TRANSFER-FACTOR-SIZE\"].mean()\n",
    "    random_dev  = random_group[\"TRANSFER-FACTOR-SIZE\"].std()\n",
    "\n",
    "    # Mann-Whitney U test for 'greater'\n",
    "    stat, p_value = stats.mannwhitneyu(\n",
    "        random_group[\"TRANSFER-FACTOR-SIZE\"],\n",
    "        [deterministic_value],\n",
    "        alternative='greater'\n",
    "    )\n",
    "\n",
    "    results[run_counter] = {\n",
    "        \"NAME\": name,\n",
    "        \"U_stat\": stat,\n",
    "        \"p_value\": p_value,\n",
    "        \"significant\": p_value<0.05,\n",
    "        \"random_mean\": random_mean,\n",
    "        \"random_dev\": random_dev,\n",
    "        \"deterministic_value\": deterministic_value\n",
    "    }\n",
    "\n",
    "# Convert results to DataFrame\n",
    "results_transfer_factor_df = pd.DataFrame.from_dict(results, orient=\"index\")\n",
    "results_transfer_factor_df\n",
    "#results_df[\"p_value\"] < 0.05"
   ],
   "metadata": {
    "collapsed": false,
    "pycharm": {
     "name": "#%%\n"
    }
   }
  },
  {
   "cell_type": "code",
   "execution_count": 90,
   "outputs": [
    {
     "data": {
      "text/plain": "             NAME  U_stat   p_value  significant    random_mean    random_dev  \\\n1    aggregation0     2.0  0.935484        False  155167.077167  11133.273945   \n2    aggregation0    20.0  0.354839        False  159141.864417  10550.489378   \n3    aggregation0    30.0  0.032258         True  159235.684000  14310.363527   \n4    aggregation0    25.0  0.193548        False  154362.174417  12163.338494   \n5    aggregation0     7.0  0.774194        False  153191.575250  14755.312933   \n..            ...     ...       ...          ...            ...           ...   \n736  Sipht_30.xml    25.0  0.136920        False    9812.811250      4.446816   \n737  Sipht_30.xml     0.0  0.962249        False    9811.865750      2.630926   \n738  Sipht_30.xml    24.5  0.149608        False    9813.524833      4.922377   \n739  Sipht_30.xml     0.0  0.962172        False    9813.203333      3.684730   \n740  Sipht_30.xml    17.5  0.408930        False    9811.892250      2.655557   \n\n     deterministic_value  \n1            173460.3850  \n2            154490.2300  \n3            125023.7800  \n4            141377.6000  \n5            166717.9925  \n..                   ...  \n736            9810.5800  \n737            9858.4900  \n738            9810.5800  \n739            9858.4800  \n740            9810.6500  \n\n[730 rows x 7 columns]",
      "text/html": "<div>\n<style scoped>\n    .dataframe tbody tr th:only-of-type {\n        vertical-align: middle;\n    }\n\n    .dataframe tbody tr th {\n        vertical-align: top;\n    }\n\n    .dataframe thead th {\n        text-align: right;\n    }\n</style>\n<table border=\"1\" class=\"dataframe\">\n  <thead>\n    <tr style=\"text-align: right;\">\n      <th></th>\n      <th>NAME</th>\n      <th>U_stat</th>\n      <th>p_value</th>\n      <th>significant</th>\n      <th>random_mean</th>\n      <th>random_dev</th>\n      <th>deterministic_value</th>\n    </tr>\n  </thead>\n  <tbody>\n    <tr>\n      <th>1</th>\n      <td>aggregation0</td>\n      <td>2.0</td>\n      <td>0.935484</td>\n      <td>False</td>\n      <td>155167.077167</td>\n      <td>11133.273945</td>\n      <td>173460.3850</td>\n    </tr>\n    <tr>\n      <th>2</th>\n      <td>aggregation0</td>\n      <td>20.0</td>\n      <td>0.354839</td>\n      <td>False</td>\n      <td>159141.864417</td>\n      <td>10550.489378</td>\n      <td>154490.2300</td>\n    </tr>\n    <tr>\n      <th>3</th>\n      <td>aggregation0</td>\n      <td>30.0</td>\n      <td>0.032258</td>\n      <td>True</td>\n      <td>159235.684000</td>\n      <td>14310.363527</td>\n      <td>125023.7800</td>\n    </tr>\n    <tr>\n      <th>4</th>\n      <td>aggregation0</td>\n      <td>25.0</td>\n      <td>0.193548</td>\n      <td>False</td>\n      <td>154362.174417</td>\n      <td>12163.338494</td>\n      <td>141377.6000</td>\n    </tr>\n    <tr>\n      <th>5</th>\n      <td>aggregation0</td>\n      <td>7.0</td>\n      <td>0.774194</td>\n      <td>False</td>\n      <td>153191.575250</td>\n      <td>14755.312933</td>\n      <td>166717.9925</td>\n    </tr>\n    <tr>\n      <th>...</th>\n      <td>...</td>\n      <td>...</td>\n      <td>...</td>\n      <td>...</td>\n      <td>...</td>\n      <td>...</td>\n      <td>...</td>\n    </tr>\n    <tr>\n      <th>736</th>\n      <td>Sipht_30.xml</td>\n      <td>25.0</td>\n      <td>0.136920</td>\n      <td>False</td>\n      <td>9812.811250</td>\n      <td>4.446816</td>\n      <td>9810.5800</td>\n    </tr>\n    <tr>\n      <th>737</th>\n      <td>Sipht_30.xml</td>\n      <td>0.0</td>\n      <td>0.962249</td>\n      <td>False</td>\n      <td>9811.865750</td>\n      <td>2.630926</td>\n      <td>9858.4900</td>\n    </tr>\n    <tr>\n      <th>738</th>\n      <td>Sipht_30.xml</td>\n      <td>24.5</td>\n      <td>0.149608</td>\n      <td>False</td>\n      <td>9813.524833</td>\n      <td>4.922377</td>\n      <td>9810.5800</td>\n    </tr>\n    <tr>\n      <th>739</th>\n      <td>Sipht_30.xml</td>\n      <td>0.0</td>\n      <td>0.962172</td>\n      <td>False</td>\n      <td>9813.203333</td>\n      <td>3.684730</td>\n      <td>9858.4800</td>\n    </tr>\n    <tr>\n      <th>740</th>\n      <td>Sipht_30.xml</td>\n      <td>17.5</td>\n      <td>0.408930</td>\n      <td>False</td>\n      <td>9811.892250</td>\n      <td>2.655557</td>\n      <td>9810.6500</td>\n    </tr>\n  </tbody>\n</table>\n<p>730 rows × 7 columns</p>\n</div>"
     },
     "execution_count": 90,
     "metadata": {},
     "output_type": "execute_result"
    }
   ],
   "source": [
    "results = {}\n",
    "# Group by RUN_COUNTER and perform the test\n",
    "for run_counter, random_group in rnd_runs.groupby(\"RUN_COUNT\"):\n",
    "    row = our_approach.loc[our_approach[\"RUN_COUNT\"] == run_counter]\n",
    "\n",
    "    deterministic_value = row[\"MAKESPAN\"].values[0]\n",
    "    name = row[\"NAME\"].values[0]\n",
    "\n",
    "    random_mean = random_group[\"MAKESPAN\"].mean()\n",
    "    random_dev  = random_group[\"MAKESPAN\"].std()\n",
    "\n",
    "    # Mann-Whitney U test for 'greater'\n",
    "    stat, p_value = stats.mannwhitneyu(\n",
    "        random_group[\"MAKESPAN\"],\n",
    "        [deterministic_value],\n",
    "        alternative='greater'\n",
    "    )\n",
    "\n",
    "    results[run_counter] = {\n",
    "        \"NAME\": name,\n",
    "        \"U_stat\": stat,\n",
    "        \"p_value\": p_value,\n",
    "        \"significant\": p_value<0.05,\n",
    "        \"random_mean\": random_mean,\n",
    "        \"random_dev\": random_dev,\n",
    "        \"deterministic_value\": deterministic_value\n",
    "    }\n",
    "\n",
    "# Convert results to DataFrame\n",
    "results_makespan_df = pd.DataFrame.from_dict(results, orient=\"index\")\n",
    "results_makespan_df\n"
   ],
   "metadata": {
    "collapsed": false,
    "pycharm": {
     "name": "#%%\n"
    }
   }
  },
  {
   "cell_type": "code",
   "execution_count": 98,
   "outputs": [
    {
     "data": {
      "text/plain": "83.97260273972603"
     },
     "execution_count": 98,
     "metadata": {},
     "output_type": "execute_result"
    }
   ],
   "source": [
    "percentage = (results_transfer_factor_df[results_transfer_factor_df[\"random_mean\"] > results_transfer_factor_df[\"deterministic_value\"]].shape[0] / results_transfer_factor_df.shape[0]) * 100\n",
    "percentage"
   ],
   "metadata": {
    "collapsed": false,
    "pycharm": {
     "name": "#%%\n"
    }
   }
  },
  {
   "cell_type": "code",
   "execution_count": 101,
   "outputs": [
    {
     "data": {
      "text/plain": "69.31506849315069"
     },
     "execution_count": 101,
     "metadata": {},
     "output_type": "execute_result"
    }
   ],
   "source": [
    "percentage = (results_transfer_factor_df[results_transfer_factor_df[\"p_value\"] < 0.05].shape[0] / results_transfer_factor_df.shape[0]) * 100\n",
    "percentage"
   ],
   "metadata": {
    "collapsed": false,
    "pycharm": {
     "name": "#%%\n"
    }
   }
  },
  {
   "cell_type": "code",
   "execution_count": 104,
   "outputs": [
    {
     "data": {
      "text/plain": "72.32876712328768"
     },
     "execution_count": 104,
     "metadata": {},
     "output_type": "execute_result"
    }
   ],
   "source": [
    "percentage = (results_makespan_df[results_makespan_df[\"random_mean\"] > results_makespan_df[\"deterministic_value\"]].shape[0] / results_makespan_df.shape[0]) * 100\n",
    "percentage\n"
   ],
   "metadata": {
    "collapsed": false,
    "pycharm": {
     "name": "#%%\n"
    }
   }
  },
  {
   "cell_type": "code",
   "execution_count": 103,
   "outputs": [
    {
     "data": {
      "text/plain": "54.38356164383562"
     },
     "execution_count": 103,
     "metadata": {},
     "output_type": "execute_result"
    }
   ],
   "source": [
    "percentage = (results_makespan_df[results_makespan_df[\"p_value\"] > 0.05].shape[0] / results_makespan_df.shape[0]) * 100\n",
    "percentage\n"
   ],
   "metadata": {
    "collapsed": false,
    "pycharm": {
     "name": "#%%\n"
    }
   }
  },
  {
   "cell_type": "code",
   "execution_count": null,
   "outputs": [],
   "source": [],
   "metadata": {
    "collapsed": false,
    "pycharm": {
     "name": "#%%\n"
    }
   }
  }
 ],
 "metadata": {
  "kernelspec": {
   "display_name": "Python 3",
   "language": "python",
   "name": "python3"
  },
  "language_info": {
   "codemirror_mode": {
    "name": "ipython",
    "version": 2
   },
   "file_extension": ".py",
   "mimetype": "text/x-python",
   "name": "python",
   "nbconvert_exporter": "python",
   "pygments_lexer": "ipython2",
   "version": "2.7.6"
  }
 },
 "nbformat": 4,
 "nbformat_minor": 0
}